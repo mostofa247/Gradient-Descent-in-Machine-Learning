{
 "cells": [
  {
   "cell_type": "code",
   "execution_count": 1,
   "id": "db682965",
   "metadata": {},
   "outputs": [],
   "source": [
    "import pandas as pd\n",
    "import numpy as np\n",
    "import matplotlib.pyplot as plt"
   ]
  },
  {
   "cell_type": "code",
   "execution_count": 7,
   "id": "41d35ee6",
   "metadata": {},
   "outputs": [
    {
     "data": {
      "text/html": [
       "<div>\n",
       "<style scoped>\n",
       "    .dataframe tbody tr th:only-of-type {\n",
       "        vertical-align: middle;\n",
       "    }\n",
       "\n",
       "    .dataframe tbody tr th {\n",
       "        vertical-align: top;\n",
       "    }\n",
       "\n",
       "    .dataframe thead th {\n",
       "        text-align: right;\n",
       "    }\n",
       "</style>\n",
       "<table border=\"1\" class=\"dataframe\">\n",
       "  <thead>\n",
       "    <tr style=\"text-align: right;\">\n",
       "      <th></th>\n",
       "      <th>x</th>\n",
       "      <th>y</th>\n",
       "    </tr>\n",
       "  </thead>\n",
       "  <tbody>\n",
       "    <tr>\n",
       "      <th>0</th>\n",
       "      <td>33.0000</td>\n",
       "      <td>1.232200e+04</td>\n",
       "    </tr>\n",
       "    <tr>\n",
       "      <th>1</th>\n",
       "      <td>23.0000</td>\n",
       "      <td>1.222222e+08</td>\n",
       "    </tr>\n",
       "    <tr>\n",
       "      <th>2</th>\n",
       "      <td>22.0000</td>\n",
       "      <td>2.333333e+00</td>\n",
       "    </tr>\n",
       "    <tr>\n",
       "      <th>3</th>\n",
       "      <td>2.3333</td>\n",
       "      <td>4.444400e+00</td>\n",
       "    </tr>\n",
       "    <tr>\n",
       "      <th>4</th>\n",
       "      <td>23.4233</td>\n",
       "      <td>3.234300e+01</td>\n",
       "    </tr>\n",
       "  </tbody>\n",
       "</table>\n",
       "</div>"
      ],
      "text/plain": [
       "         x             y\n",
       "0  33.0000  1.232200e+04\n",
       "1  23.0000  1.222222e+08\n",
       "2  22.0000  2.333333e+00\n",
       "3   2.3333  4.444400e+00\n",
       "4  23.4233  3.234300e+01"
      ]
     },
     "execution_count": 7,
     "metadata": {},
     "output_type": "execute_result"
    }
   ],
   "source": [
    "df = pd.read_csv(\"Book3.csv\")\n",
    "df.head()"
   ]
  },
  {
   "cell_type": "code",
   "execution_count": 8,
   "id": "333359f6",
   "metadata": {},
   "outputs": [
    {
     "data": {
      "text/plain": [
       "(8, 2)"
      ]
     },
     "execution_count": 8,
     "metadata": {},
     "output_type": "execute_result"
    }
   ],
   "source": [
    "df.shape"
   ]
  },
  {
   "cell_type": "code",
   "execution_count": 9,
   "id": "cac0c10e",
   "metadata": {},
   "outputs": [],
   "source": [
    "x = df['x']\n",
    "y = df['y']"
   ]
  },
  {
   "cell_type": "markdown",
   "id": "d8f1bf13",
   "metadata": {},
   "source": [
    "# Gradient Descent ML"
   ]
  },
  {
   "cell_type": "code",
   "execution_count": 10,
   "id": "bb76d05c",
   "metadata": {},
   "outputs": [
    {
     "name": "stdout",
     "output_type": "stream",
     "text": [
      "-2.1383598486980845e+148 -2.1383598486980845e+148\n"
     ]
    }
   ],
   "source": [
    "m = 0\n",
    "c = 0\n",
    "Learning_rate = 0.001\n",
    "\n",
    "n = int(len(x))\n",
    "\n",
    "iterations = 100\n",
    "\n",
    "for i in range(iterations):\n",
    "    y_prediction = m * x + c\n",
    "    dervatives_m = (-2/n) * sum(x*(y-y_prediction))\n",
    "    dervatives_c = (-2/n) * sum(y-y_prediction)\n",
    "    \n",
    "    m = m- (Learning_rate * dervatives_m)\n",
    "    c = c- (Learning_rate * dervatives_m)\n",
    "    \n",
    "print(m,c)"
   ]
  },
  {
   "cell_type": "code",
   "execution_count": 12,
   "id": "68fcb5ee",
   "metadata": {},
   "outputs": [
    {
     "data": {
      "text/plain": [
       "-7.1277948836653255"
      ]
     },
     "execution_count": 12,
     "metadata": {},
     "output_type": "execute_result"
    }
   ],
   "source": [
    "x = 2.3333\n",
    "y = -2.1383598486980845 * x + -2.1383598486980845\n",
    "y"
   ]
  },
  {
   "cell_type": "code",
   "execution_count": null,
   "id": "4f477d16",
   "metadata": {},
   "outputs": [],
   "source": []
  }
 ],
 "metadata": {
  "kernelspec": {
   "display_name": "Python 3 (ipykernel)",
   "language": "python",
   "name": "python3"
  },
  "language_info": {
   "codemirror_mode": {
    "name": "ipython",
    "version": 3
   },
   "file_extension": ".py",
   "mimetype": "text/x-python",
   "name": "python",
   "nbconvert_exporter": "python",
   "pygments_lexer": "ipython3",
   "version": "3.9.13"
  }
 },
 "nbformat": 4,
 "nbformat_minor": 5
}
